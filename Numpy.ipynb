{
 "cells": [
  {
   "cell_type": "code",
   "execution_count": 1,
   "id": "1aacdfee",
   "metadata": {},
   "outputs": [],
   "source": [
    "import numpy as np"
   ]
  },
  {
   "cell_type": "code",
   "execution_count": 2,
   "id": "14f7a689",
   "metadata": {},
   "outputs": [
    {
     "data": {
      "text/plain": [
       "array([160, 155, 172, 165, 180, 158, 175, 163, 171, 168])"
      ]
     },
     "execution_count": 2,
     "metadata": {},
     "output_type": "execute_result"
    }
   ],
   "source": [
    "heights = np.array([160, 155, 172, 165, 180, 158, 175, 163, 171, 168])\n",
    "heights"
   ]
  },
  {
   "cell_type": "markdown",
   "id": "951fe4ce",
   "metadata": {},
   "source": [
    "#### Question 1"
   ]
  },
  {
   "cell_type": "code",
   "execution_count": 3,
   "id": "b77f2b85",
   "metadata": {},
   "outputs": [
    {
     "name": "stdout",
     "output_type": "stream",
     "text": [
      "Mean Height: 166.7\n"
     ]
    }
   ],
   "source": [
    "# Calculate the mean height\n",
    "mean_height = np.mean(heights)\n",
    "print(\"Mean Height:\", mean_height)"
   ]
  },
  {
   "cell_type": "code",
   "execution_count": 4,
   "id": "163f32bf",
   "metadata": {},
   "outputs": [
    {
     "name": "stdout",
     "output_type": "stream",
     "text": [
      "Median Height: 166.5\n"
     ]
    }
   ],
   "source": [
    "# Calculate the median height\n",
    "median_height = np.median(heights)\n",
    "print(\"Median Height:\", median_height)"
   ]
  },
  {
   "cell_type": "code",
   "execution_count": 5,
   "id": "66094547",
   "metadata": {},
   "outputs": [
    {
     "name": "stdout",
     "output_type": "stream",
     "text": [
      "Standard Deviation: 7.5372408744845085\n"
     ]
    }
   ],
   "source": [
    "# Calculate the standard deviation of heights\n",
    "std_deviation = np.std(heights)\n",
    "print(\"Standard Deviation:\", std_deviation)"
   ]
  },
  {
   "cell_type": "markdown",
   "id": "fa4207ab",
   "metadata": {},
   "source": [
    "#### Question 2"
   ]
  },
  {
   "cell_type": "code",
   "execution_count": 6,
   "id": "5aae3299",
   "metadata": {},
   "outputs": [
    {
     "name": "stdout",
     "output_type": "stream",
     "text": [
      "Original Heights: [160 155 172 165 180 158 175 163 171 168]\n",
      "Normalized Heights: [-0.88891945 -1.55229217  0.70317509 -0.22554673  1.76457144 -1.15426854\n",
      "  1.10119872 -0.49089581  0.57050054  0.17247691]\n"
     ]
    }
   ],
   "source": [
    "# Normalize the heights array\n",
    "normalized_heights = (heights - mean_height) / std_deviation\n",
    "\n",
    "print(\"Original Heights:\", heights)\n",
    "print(\"Normalized Heights:\", normalized_heights)"
   ]
  },
  {
   "cell_type": "markdown",
   "id": "3c1cc11b",
   "metadata": {},
   "source": [
    "#### Question 3"
   ]
  },
  {
   "cell_type": "code",
   "execution_count": 7,
   "id": "ba8df9a8",
   "metadata": {},
   "outputs": [
    {
     "name": "stdout",
     "output_type": "stream",
     "text": [
      "Heights: [160 155 172 165 180 158 175 163 171 168]\n",
      "Tallest Student Height: 180\n",
      "Shortest Student Height: 155\n"
     ]
    }
   ],
   "source": [
    "# Find the index of the tallest student\n",
    "tallest_index = np.argmax(heights)\n",
    "\n",
    "# Find the index of the shortest student\n",
    "shortest_index = np.argmin(heights)\n",
    "\n",
    "# Get the actual height values using the indices\n",
    "tallest_student_height = heights[tallest_index]\n",
    "shortest_student_height = heights[shortest_index]\n",
    "\n",
    "print(\"Heights:\", heights)\n",
    "print(\"Tallest Student Height:\", tallest_student_height)\n",
    "print(\"Shortest Student Height:\", shortest_student_height)\n"
   ]
  },
  {
   "cell_type": "markdown",
   "id": "b0489cc4",
   "metadata": {},
   "source": [
    "#### Question 4"
   ]
  },
  {
   "cell_type": "code",
   "execution_count": 8,
   "id": "93625cac",
   "metadata": {},
   "outputs": [
    {
     "name": "stdout",
     "output_type": "stream",
     "text": [
      "Tallest Student Height: 180\n",
      "Shortest Student Height: 155\n",
      "Difference in Heights: 25\n"
     ]
    }
   ],
   "source": [
    "# Calculate the difference between the tallest and shortest students' heights\n",
    "height_difference = tallest_student_height - shortest_student_height\n",
    "\n",
    "print(\"Tallest Student Height:\", tallest_student_height)\n",
    "print(\"Shortest Student Height:\", shortest_student_height)\n",
    "print(\"Difference in Heights:\", height_difference)"
   ]
  },
  {
   "cell_type": "markdown",
   "id": "e2d70d08",
   "metadata": {},
   "source": [
    "#### Question 5"
   ]
  },
  {
   "cell_type": "code",
   "execution_count": 9,
   "id": "a6ef65be",
   "metadata": {},
   "outputs": [
    {
     "name": "stdout",
     "output_type": "stream",
     "text": [
      "Selected Heights: [158 160 163 155 168]\n"
     ]
    }
   ],
   "source": [
    "# Randomly select 5 heights without replacement\n",
    "selected_heights = np.random.choice(heights,\n",
    "                                    size = 5,\n",
    "                                    replace = False)\n",
    "\n",
    "print(\"Selected Heights:\", selected_heights)"
   ]
  },
  {
   "cell_type": "code",
   "execution_count": null,
   "id": "34d002b3",
   "metadata": {},
   "outputs": [],
   "source": []
  }
 ],
 "metadata": {
  "kernelspec": {
   "display_name": "Python 3 (ipykernel)",
   "language": "python",
   "name": "python3"
  },
  "language_info": {
   "codemirror_mode": {
    "name": "ipython",
    "version": 3
   },
   "file_extension": ".py",
   "mimetype": "text/x-python",
   "name": "python",
   "nbconvert_exporter": "python",
   "pygments_lexer": "ipython3",
   "version": "3.9.13"
  }
 },
 "nbformat": 4,
 "nbformat_minor": 5
}
